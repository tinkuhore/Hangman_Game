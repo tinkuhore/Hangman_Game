{
 "cells": [
  {
   "cell_type": "code",
   "execution_count": 1,
   "id": "9a3617cd",
   "metadata": {},
   "outputs": [
    {
     "data": {
      "text/plain": [
       "65"
      ]
     },
     "execution_count": 1,
     "metadata": {},
     "output_type": "execute_result"
    }
   ],
   "source": [
    "len(\"that evaluate mathematical operations including multi-D arrays so\")"
   ]
  },
  {
   "cell_type": "code",
   "execution_count": null,
   "id": "21434b77",
   "metadata": {},
   "outputs": [],
   "source": [
    "hint = \"Python Imaging Library (PIL) with support for opening, manipulating, and saving images.\"\n"
   ]
  }
 ],
 "metadata": {
  "kernelspec": {
   "display_name": "Python 3 (ipykernel)",
   "language": "python",
   "name": "python3"
  },
  "language_info": {
   "codemirror_mode": {
    "name": "ipython",
    "version": 3
   },
   "file_extension": ".py",
   "mimetype": "text/x-python",
   "name": "python",
   "nbconvert_exporter": "python",
   "pygments_lexer": "ipython3",
   "version": "3.9.13"
  }
 },
 "nbformat": 4,
 "nbformat_minor": 5
}
